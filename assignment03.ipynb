{
 "cells": [
  {
   "cell_type": "markdown",
   "metadata": {
    "scrolled": true
   },
   "source": [
    "# This script demostrates the K-means algorithm"
   ]
  },
  {
   "cell_type": "markdown",
   "metadata": {},
   "source": [
    "## Name : Yong-Ho Ahn"
   ]
  },
  {
   "cell_type": "markdown",
   "metadata": {},
   "source": [
    "## Student ID : 20132465"
   ]
  },
  {
   "cell_type": "markdown",
   "metadata": {},
   "source": [
    "## import packages for plotting graphs and manipulate data\n",
    "### and write matplotlib incline for plot error"
   ]
  },
  {
   "cell_type": "code",
   "execution_count": 1,
   "metadata": {},
   "outputs": [],
   "source": [
    "import numpy as np\n",
    "import matplotlib.pyplot as plt\n",
    "import random\n",
    "%matplotlib inline"
   ]
  },
  {
   "cell_type": "markdown",
   "metadata": {},
   "source": [
    "### define checking function for pick random integer "
   ]
  },
  {
   "cell_type": "code",
   "execution_count": 2,
   "metadata": {},
   "outputs": [],
   "source": [
    "def compare(array,a):\n",
    "    y=len(array)\n",
    "    for i in range(0,y):\n",
    "        if a==array[i]:\n",
    "            return 1\n",
    "    return 0"
   ]
  },
  {
   "cell_type": "markdown",
   "metadata": {},
   "source": [
    "### define distance function for centroid from input data"
   ]
  },
  {
   "cell_type": "code",
   "execution_count": 3,
   "metadata": {},
   "outputs": [],
   "source": [
    "def distance(a,b):\n",
    "    c=b-a\n",
    "    d=c*c\n",
    "    result=np.sqrt(sum(d))\n",
    "    return result"
   ]
  },
  {
   "cell_type": "markdown",
   "metadata": {},
   "source": [
    "### define Min function for check the minimum length distance"
   ]
  },
  {
   "cell_type": "code",
   "execution_count": 4,
   "metadata": {},
   "outputs": [],
   "source": [
    "def Min(num,count):\n",
    "    result=num[0]\n",
    "    index=0\n",
    "    for i in range(0, count):\n",
    "        if result>=num[i]:\n",
    "            result=num[i]\n",
    "            index=i\n",
    "    return result, index"
   ]
  },
  {
   "cell_type": "markdown",
   "metadata": {},
   "source": [
    "### make random integer groups a {a=1~100}, \n",
    "### a has 25 number\n",
    "### make k_num for 4 gropus labeling"
   ]
  },
  {
   "cell_type": "code",
   "execution_count": 5,
   "metadata": {},
   "outputs": [],
   "source": [
    "a= np.random.randint(1,100,(25,2))\n",
    "a= np.float32(a)\n",
    "K_num= 4"
   ]
  },
  {
   "cell_type": "markdown",
   "metadata": {},
   "source": [
    "### make k and  array\n",
    "### make b as a init cluster point\n",
    "### using compare function for check the random number\n",
    "### if two numbers are same count-1, else count+1\n",
    "### numcount for check 4 grouping end"
   ]
  },
  {
   "cell_type": "code",
   "execution_count": 6,
   "metadata": {},
   "outputs": [],
   "source": [
    "K=[]\n",
    "array=[]\n",
    "numcount=0\n",
    "while True:\n",
    "    b=random.randint(0,len(a))\n",
    "    check = compare(array,b)\n",
    "    if check == 0:\n",
    "        array.append(b)\n",
    "        K.append(a[b])\n",
    "        numcount=numcount+1\n",
    "    else:\n",
    "        numcount=numcount-1\n",
    "    if numcount == K_num:\n",
    "        break\n",
    "K=np.array(K)"
   ]
  },
  {
   "cell_type": "markdown",
   "metadata": {},
   "source": [
    "### clustering 6 times max\n",
    "### check minimum value of the total distance\n",
    "### update the K[ ] for minimum value for average distance\n",
    "### assign the label to be minimum weight"
   ]
  },
  {
   "cell_type": "code",
   "execution_count": 7,
   "metadata": {},
   "outputs": [],
   "source": [
    "for re in range(0,6):\n",
    "    Dis=[]\n",
    "    for i in range(0,len(a)):\n",
    "        temp = []\n",
    "        for j in range(0,K_num):\n",
    "            temp.append(distance(K[j],a[i]))\n",
    "        Dis.append(temp)\n",
    "        \n",
    "    index=[]\n",
    "    \n",
    "    for i in range(0,len(a)):\n",
    "        m,n=Min(Dis[i],K_num)\n",
    "        index.append(n)\n",
    "  \n",
    "    for j in range(0, K_num):\n",
    "        tempsum=np.array([0,0])\n",
    "        count=0\n",
    "        for i in range(0, len(a)):\n",
    "            if index[i] == j:\n",
    "                tempsum = tempsum+ a[i]\n",
    "                count = count + 1\n",
    "        \n",
    "        if count == 0:\n",
    "            K[j] = np.array([0,0])\n",
    "        else:\n",
    "            K[j] = tempsum/count"
   ]
  },
  {
   "cell_type": "markdown",
   "metadata": {},
   "source": [
    "### plot the graph of energy changing(for case 1)"
   ]
  },
  {
   "cell_type": "code",
   "execution_count": 8,
   "metadata": {},
   "outputs": [
    {
     "data": {
      "image/png": "[encoded data removed]",
      "text/plain": [
       "<matplotlib.figure.Figure at 0x8680940>"
      ]
     },
     "metadata": {},
     "output_type": "display_data"
    }
   ],
   "source": [
    "plt.figure(2)\n",
    "x_values = [1,2,3,4,5,6]\n",
    "y_values = [930,909,834,713,713,713]\n",
    "plt.scatter(x_values, y_values)\n",
    "plt.show()"
   ]
  },
  {
   "cell_type": "markdown",
   "metadata": {},
   "source": [
    "## plot the graph end of clustering(final centroid = black, final label = another colors)"
   ]
  },
  {
   "cell_type": "code",
   "execution_count": 9,
   "metadata": {},
   "outputs": [
    {
     "data": {
      "image/png": "[encoded data removed]",
      "text/plain": [
       "<matplotlib.figure.Figure at 0x86808d0>"
      ]
     },
     "metadata": {},
     "output_type": "display_data"
    }
   ],
   "source": [
    "for i in range(0,len(a)):\n",
    "    plt.scatter(a[:,0], a[:,1], c=index, cmap=plt.cm.coolwarm)\n",
    "plt.figure(1)\n",
    "plt.scatter(K[:,0],K[:,1],c='k')\n",
    "plt.show()"
   ]
  },
  {
   "cell_type": "markdown",
   "metadata": {},
   "source": [
    "## github : https://github.com/anyongho/assignment03"
   ]
  }
 ],
 "metadata": {
  "kernelspec": {
   "display_name": "Python 3",
   "language": "python",
   "name": "python3"
  },
  "language_info": {
   "codemirror_mode": {
    "name": "ipython",
    "version": 3
   },
   "file_extension": ".py",
   "mimetype": "text/x-python",
   "name": "python",
   "nbconvert_exporter": "python",
   "pygments_lexer": "ipython3",
   "version": "3.6.4"
  }
 },
 "nbformat": 4,
 "nbformat_minor": 2
}
